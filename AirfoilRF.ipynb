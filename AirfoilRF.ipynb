{
 "cells": [
  {
   "cell_type": "markdown",
   "metadata": {
    "id": "FmIrENUxKP0b"
   },
   "source": [
    "## Random Forest Classifier"
   ]
  },
  {
   "cell_type": "markdown",
   "metadata": {
    "id": "64oC37MTKYuS"
   },
   "source": [
    "Import Modules"
   ]
  },
  {
   "cell_type": "code",
   "execution_count": 555,
   "metadata": {
    "id": "TUPGtPbOKWF4"
   },
   "outputs": [],
   "source": [
    "from sklearn.ensemble import RandomForestClassifier\n",
    "from sklearn.datasets import make_classification\n",
    "from sklearn.ensemble import RandomForestRegressor\n",
    "from sklearn.model_selection import train_test_split\n",
    "from sklearn.tree import export_graphviz\n",
    "from sklearn.tree import export_graphviz\n",
    "from graphviz import Source\n",
    "import matplotlib.pyplot as plt\n",
    "import graphviz\n",
    "import pydot\n",
    "import pandas as pd\n",
    "import numpy as np\n",
    "import os"
   ]
  },
  {
   "cell_type": "markdown",
   "metadata": {
    "id": "0EdJias6Klqj"
   },
   "source": [
    "Read data"
   ]
  },
  {
   "cell_type": "code",
   "execution_count": 556,
   "metadata": {
    "colab": {
     "base_uri": "https://localhost:8080/",
     "height": 335
    },
    "executionInfo": {
     "elapsed": 21106,
     "status": "ok",
     "timestamp": 1644338116893,
     "user": {
      "displayName": "Raphael R",
      "photoUrl": "https://lh3.googleusercontent.com/a/default-user=s64",
      "userId": "10523885934486223755"
     },
     "user_tz": -60
    },
    "id": "SUwGGF-nJ7b4",
    "outputId": "9152f29a-e570-409d-c1bc-b2adac0517f5"
   },
   "outputs": [
    {
     "name": "stdout",
     "output_type": "stream",
     "text": [
      "The shape of our features is: (3652, 8)\n"
     ]
    },
    {
     "data": {
      "text/html": [
       "<div>\n",
       "<style scoped>\n",
       "    .dataframe tbody tr th:only-of-type {\n",
       "        vertical-align: middle;\n",
       "    }\n",
       "\n",
       "    .dataframe tbody tr th {\n",
       "        vertical-align: top;\n",
       "    }\n",
       "\n",
       "    .dataframe thead th {\n",
       "        text-align: right;\n",
       "    }\n",
       "</style>\n",
       "<table border=\"1\" class=\"dataframe\">\n",
       "  <thead>\n",
       "    <tr style=\"text-align: right;\">\n",
       "      <th></th>\n",
       "      <th>Alpha</th>\n",
       "      <th>Cl</th>\n",
       "      <th>Cd</th>\n",
       "      <th>Cdp</th>\n",
       "      <th>Cm</th>\n",
       "      <th>Top_Xtr</th>\n",
       "      <th>Bot_Xtr</th>\n",
       "      <th>Naca</th>\n",
       "    </tr>\n",
       "  </thead>\n",
       "  <tbody>\n",
       "    <tr>\n",
       "      <th>count</th>\n",
       "      <td>3652.000000</td>\n",
       "      <td>3652.000000</td>\n",
       "      <td>3652.000000</td>\n",
       "      <td>3652.000000</td>\n",
       "      <td>3652.000000</td>\n",
       "      <td>3652.000000</td>\n",
       "      <td>3652.000000</td>\n",
       "      <td>3652.000000</td>\n",
       "    </tr>\n",
       "    <tr>\n",
       "      <th>mean</th>\n",
       "      <td>0.764239</td>\n",
       "      <td>0.253072</td>\n",
       "      <td>0.022089</td>\n",
       "      <td>0.016955</td>\n",
       "      <td>-0.041006</td>\n",
       "      <td>0.525791</td>\n",
       "      <td>0.561634</td>\n",
       "      <td>2310.521632</td>\n",
       "    </tr>\n",
       "    <tr>\n",
       "      <th>std</th>\n",
       "      <td>10.562997</td>\n",
       "      <td>0.967161</td>\n",
       "      <td>0.021333</td>\n",
       "      <td>0.021750</td>\n",
       "      <td>0.043580</td>\n",
       "      <td>0.397649</td>\n",
       "      <td>0.435943</td>\n",
       "      <td>1876.249303</td>\n",
       "    </tr>\n",
       "    <tr>\n",
       "      <th>min</th>\n",
       "      <td>-19.750000</td>\n",
       "      <td>-1.564400</td>\n",
       "      <td>0.003380</td>\n",
       "      <td>0.000730</td>\n",
       "      <td>-0.157400</td>\n",
       "      <td>0.003300</td>\n",
       "      <td>0.003200</td>\n",
       "      <td>6.000000</td>\n",
       "    </tr>\n",
       "    <tr>\n",
       "      <th>25%</th>\n",
       "      <td>-8.000000</td>\n",
       "      <td>-0.633650</td>\n",
       "      <td>0.008778</td>\n",
       "      <td>0.003210</td>\n",
       "      <td>-0.065600</td>\n",
       "      <td>0.074575</td>\n",
       "      <td>0.065575</td>\n",
       "      <td>21.000000</td>\n",
       "    </tr>\n",
       "    <tr>\n",
       "      <th>50%</th>\n",
       "      <td>1.000000</td>\n",
       "      <td>0.320150</td>\n",
       "      <td>0.013440</td>\n",
       "      <td>0.007820</td>\n",
       "      <td>-0.036300</td>\n",
       "      <td>0.537050</td>\n",
       "      <td>0.684850</td>\n",
       "      <td>2412.000000</td>\n",
       "    </tr>\n",
       "    <tr>\n",
       "      <th>75%</th>\n",
       "      <td>9.750000</td>\n",
       "      <td>1.202625</td>\n",
       "      <td>0.025755</td>\n",
       "      <td>0.020650</td>\n",
       "      <td>-0.004800</td>\n",
       "      <td>0.972025</td>\n",
       "      <td>1.000000</td>\n",
       "      <td>4412.000000</td>\n",
       "    </tr>\n",
       "    <tr>\n",
       "      <th>max</th>\n",
       "      <td>19.250000</td>\n",
       "      <td>1.708400</td>\n",
       "      <td>0.151610</td>\n",
       "      <td>0.149750</td>\n",
       "      <td>0.043200</td>\n",
       "      <td>1.000000</td>\n",
       "      <td>1.000000</td>\n",
       "      <td>6412.000000</td>\n",
       "    </tr>\n",
       "  </tbody>\n",
       "</table>\n",
       "</div>"
      ],
      "text/plain": [
       "             Alpha           Cl           Cd          Cdp           Cm  \\\n",
       "count  3652.000000  3652.000000  3652.000000  3652.000000  3652.000000   \n",
       "mean      0.764239     0.253072     0.022089     0.016955    -0.041006   \n",
       "std      10.562997     0.967161     0.021333     0.021750     0.043580   \n",
       "min     -19.750000    -1.564400     0.003380     0.000730    -0.157400   \n",
       "25%      -8.000000    -0.633650     0.008778     0.003210    -0.065600   \n",
       "50%       1.000000     0.320150     0.013440     0.007820    -0.036300   \n",
       "75%       9.750000     1.202625     0.025755     0.020650    -0.004800   \n",
       "max      19.250000     1.708400     0.151610     0.149750     0.043200   \n",
       "\n",
       "           Top_Xtr      Bot_Xtr         Naca  \n",
       "count  3652.000000  3652.000000  3652.000000  \n",
       "mean      0.525791     0.561634  2310.521632  \n",
       "std       0.397649     0.435943  1876.249303  \n",
       "min       0.003300     0.003200     6.000000  \n",
       "25%       0.074575     0.065575    21.000000  \n",
       "50%       0.537050     0.684850  2412.000000  \n",
       "75%       0.972025     1.000000  4412.000000  \n",
       "max       1.000000     1.000000  6412.000000  "
      ]
     },
     "execution_count": 556,
     "metadata": {},
     "output_type": "execute_result"
    }
   ],
   "source": [
    "# # Connect to your google drive:\n",
    "# drive.mount('/content/drive/')\n",
    "# #os.chdir(\"/content/drive/MyDrive/AirfoilData/Airfoils\")\n",
    "# os.chdir(\"/content/drive/MyDrive/AirfoilData/\")\n",
    "\n",
    "\n",
    "\n",
    "data = pd.read_csv('combined-naca.csv')\n",
    "#features = pd.read_csv('naca0021.csv')\n",
    "data.head(5)\n",
    "print('The shape of our features is:', data.shape)\n",
    "# Descriptive statistics for each column\n",
    "data.describe()"
   ]
  },
  {
   "cell_type": "markdown",
   "metadata": {
    "id": "kGlYAxG3c1F7"
   },
   "source": [
    "Show Sample Data"
   ]
  },
  {
   "cell_type": "code",
   "execution_count": 557,
   "metadata": {
    "colab": {
     "base_uri": "https://localhost:8080/",
     "height": 363
    },
    "executionInfo": {
     "elapsed": 274,
     "status": "ok",
     "timestamp": 1644338123368,
     "user": {
      "displayName": "Raphael R",
      "photoUrl": "https://lh3.googleusercontent.com/a/default-user=s64",
      "userId": "10523885934486223755"
     },
     "user_tz": -60
    },
    "id": "LLxJnDJHczAB",
    "outputId": "9376ba55-387a-4e4b-c5ca-dcba0130b11a"
   },
   "outputs": [
    {
     "data": {
      "text/html": [
       "<div>\n",
       "<style scoped>\n",
       "    .dataframe tbody tr th:only-of-type {\n",
       "        vertical-align: middle;\n",
       "    }\n",
       "\n",
       "    .dataframe tbody tr th {\n",
       "        vertical-align: top;\n",
       "    }\n",
       "\n",
       "    .dataframe thead th {\n",
       "        text-align: right;\n",
       "    }\n",
       "</style>\n",
       "<table border=\"1\" class=\"dataframe\">\n",
       "  <thead>\n",
       "    <tr style=\"text-align: right;\">\n",
       "      <th></th>\n",
       "      <th>Alpha</th>\n",
       "      <th>Cl</th>\n",
       "      <th>Cd</th>\n",
       "      <th>Cdp</th>\n",
       "      <th>Cm</th>\n",
       "      <th>Top_Xtr</th>\n",
       "      <th>Bot_Xtr</th>\n",
       "      <th>Naca</th>\n",
       "    </tr>\n",
       "  </thead>\n",
       "  <tbody>\n",
       "    <tr>\n",
       "      <th>2861</th>\n",
       "      <td>10.00</td>\n",
       "      <td>1.2374</td>\n",
       "      <td>0.01605</td>\n",
       "      <td>0.00977</td>\n",
       "      <td>-0.0322</td>\n",
       "      <td>0.0230</td>\n",
       "      <td>1.0000</td>\n",
       "      <td>2411</td>\n",
       "    </tr>\n",
       "    <tr>\n",
       "      <th>1950</th>\n",
       "      <td>18.75</td>\n",
       "      <td>1.4865</td>\n",
       "      <td>0.06890</td>\n",
       "      <td>0.06522</td>\n",
       "      <td>0.0215</td>\n",
       "      <td>0.0295</td>\n",
       "      <td>1.0000</td>\n",
       "      <td>12</td>\n",
       "    </tr>\n",
       "    <tr>\n",
       "      <th>3329</th>\n",
       "      <td>15.75</td>\n",
       "      <td>1.5005</td>\n",
       "      <td>0.03963</td>\n",
       "      <td>0.03391</td>\n",
       "      <td>0.0004</td>\n",
       "      <td>0.0510</td>\n",
       "      <td>1.0000</td>\n",
       "      <td>2418</td>\n",
       "    </tr>\n",
       "    <tr>\n",
       "      <th>2813</th>\n",
       "      <td>-2.00</td>\n",
       "      <td>0.0902</td>\n",
       "      <td>0.00643</td>\n",
       "      <td>0.00128</td>\n",
       "      <td>-0.0679</td>\n",
       "      <td>0.7967</td>\n",
       "      <td>0.2594</td>\n",
       "      <td>2411</td>\n",
       "    </tr>\n",
       "    <tr>\n",
       "      <th>3569</th>\n",
       "      <td>-1.50</td>\n",
       "      <td>-0.0258</td>\n",
       "      <td>0.00921</td>\n",
       "      <td>0.00319</td>\n",
       "      <td>-0.0249</td>\n",
       "      <td>0.5515</td>\n",
       "      <td>0.3704</td>\n",
       "      <td>2424</td>\n",
       "    </tr>\n",
       "    <tr>\n",
       "      <th>3552</th>\n",
       "      <td>-5.75</td>\n",
       "      <td>-0.2130</td>\n",
       "      <td>0.00984</td>\n",
       "      <td>0.00402</td>\n",
       "      <td>-0.0863</td>\n",
       "      <td>0.7121</td>\n",
       "      <td>0.2538</td>\n",
       "      <td>2424</td>\n",
       "    </tr>\n",
       "    <tr>\n",
       "      <th>1674</th>\n",
       "      <td>-13.75</td>\n",
       "      <td>-1.3544</td>\n",
       "      <td>0.02700</td>\n",
       "      <td>0.02259</td>\n",
       "      <td>-0.0209</td>\n",
       "      <td>1.0000</td>\n",
       "      <td>0.0087</td>\n",
       "      <td>10</td>\n",
       "    </tr>\n",
       "    <tr>\n",
       "      <th>2124</th>\n",
       "      <td>-15.75</td>\n",
       "      <td>-1.3846</td>\n",
       "      <td>0.03203</td>\n",
       "      <td>0.02649</td>\n",
       "      <td>-0.0393</td>\n",
       "      <td>1.0000</td>\n",
       "      <td>0.0439</td>\n",
       "      <td>18</td>\n",
       "    </tr>\n",
       "    <tr>\n",
       "      <th>1083</th>\n",
       "      <td>2.00</td>\n",
       "      <td>0.6706</td>\n",
       "      <td>0.00871</td>\n",
       "      <td>0.00325</td>\n",
       "      <td>-0.0876</td>\n",
       "      <td>0.4742</td>\n",
       "      <td>0.6222</td>\n",
       "      <td>4421</td>\n",
       "    </tr>\n",
       "    <tr>\n",
       "      <th>3146</th>\n",
       "      <td>8.00</td>\n",
       "      <td>1.0966</td>\n",
       "      <td>0.01192</td>\n",
       "      <td>0.00594</td>\n",
       "      <td>-0.0437</td>\n",
       "      <td>0.1166</td>\n",
       "      <td>1.0000</td>\n",
       "      <td>2414</td>\n",
       "    </tr>\n",
       "  </tbody>\n",
       "</table>\n",
       "</div>"
      ],
      "text/plain": [
       "      Alpha      Cl       Cd      Cdp      Cm  Top_Xtr  Bot_Xtr  Naca\n",
       "2861  10.00  1.2374  0.01605  0.00977 -0.0322   0.0230   1.0000  2411\n",
       "1950  18.75  1.4865  0.06890  0.06522  0.0215   0.0295   1.0000    12\n",
       "3329  15.75  1.5005  0.03963  0.03391  0.0004   0.0510   1.0000  2418\n",
       "2813  -2.00  0.0902  0.00643  0.00128 -0.0679   0.7967   0.2594  2411\n",
       "3569  -1.50 -0.0258  0.00921  0.00319 -0.0249   0.5515   0.3704  2424\n",
       "3552  -5.75 -0.2130  0.00984  0.00402 -0.0863   0.7121   0.2538  2424\n",
       "1674 -13.75 -1.3544  0.02700  0.02259 -0.0209   1.0000   0.0087    10\n",
       "2124 -15.75 -1.3846  0.03203  0.02649 -0.0393   1.0000   0.0439    18\n",
       "1083   2.00  0.6706  0.00871  0.00325 -0.0876   0.4742   0.6222  4421\n",
       "3146   8.00  1.0966  0.01192  0.00594 -0.0437   0.1166   1.0000  2414"
      ]
     },
     "execution_count": 557,
     "metadata": {},
     "output_type": "execute_result"
    }
   ],
   "source": [
    "data.sample(n=10)"
   ]
  },
  {
   "cell_type": "markdown",
   "metadata": {
    "id": "ZqiEbYvI115D"
   },
   "source": [
    "Splitting NACA digits"
   ]
  },
  {
   "cell_type": "code",
   "execution_count": 558,
   "metadata": {
    "colab": {
     "base_uri": "https://localhost:8080/",
     "height": 363
    },
    "executionInfo": {
     "elapsed": 16,
     "status": "ok",
     "timestamp": 1644338126858,
     "user": {
      "displayName": "Raphael R",
      "photoUrl": "https://lh3.googleusercontent.com/a/default-user=s64",
      "userId": "10523885934486223755"
     },
     "user_tz": -60
    },
    "id": "4gI3TjeC1Sp0",
    "outputId": "d0391ed1-b9e8-4360-9d36-afd6458fd1a2"
   },
   "outputs": [
    {
     "data": {
      "text/html": [
       "<div>\n",
       "<style scoped>\n",
       "    .dataframe tbody tr th:only-of-type {\n",
       "        vertical-align: middle;\n",
       "    }\n",
       "\n",
       "    .dataframe tbody tr th {\n",
       "        vertical-align: top;\n",
       "    }\n",
       "\n",
       "    .dataframe thead th {\n",
       "        text-align: right;\n",
       "    }\n",
       "</style>\n",
       "<table border=\"1\" class=\"dataframe\">\n",
       "  <thead>\n",
       "    <tr style=\"text-align: right;\">\n",
       "      <th></th>\n",
       "      <th>Alpha</th>\n",
       "      <th>Cl</th>\n",
       "      <th>Cd</th>\n",
       "      <th>Cdp</th>\n",
       "      <th>Cm</th>\n",
       "      <th>Top_Xtr</th>\n",
       "      <th>Bot_Xtr</th>\n",
       "      <th>Naca</th>\n",
       "      <th>Naca_1st</th>\n",
       "      <th>Naca_2nd</th>\n",
       "      <th>Naca_3rd</th>\n",
       "    </tr>\n",
       "  </thead>\n",
       "  <tbody>\n",
       "    <tr>\n",
       "      <th>865</th>\n",
       "      <td>-15.25</td>\n",
       "      <td>-1.0965</td>\n",
       "      <td>0.03328</td>\n",
       "      <td>0.03022</td>\n",
       "      <td>-0.0993</td>\n",
       "      <td>1.0000</td>\n",
       "      <td>0.0153</td>\n",
       "      <td>4412</td>\n",
       "      <td>4</td>\n",
       "      <td>4</td>\n",
       "      <td>12</td>\n",
       "    </tr>\n",
       "    <tr>\n",
       "      <th>1531</th>\n",
       "      <td>17.25</td>\n",
       "      <td>1.6858</td>\n",
       "      <td>0.08262</td>\n",
       "      <td>0.07733</td>\n",
       "      <td>-0.0779</td>\n",
       "      <td>0.0142</td>\n",
       "      <td>0.9999</td>\n",
       "      <td>6412</td>\n",
       "      <td>6</td>\n",
       "      <td>4</td>\n",
       "      <td>12</td>\n",
       "    </tr>\n",
       "    <tr>\n",
       "      <th>1908</th>\n",
       "      <td>8.25</td>\n",
       "      <td>0.9470</td>\n",
       "      <td>0.01160</td>\n",
       "      <td>0.00579</td>\n",
       "      <td>-0.0009</td>\n",
       "      <td>0.0762</td>\n",
       "      <td>1.0000</td>\n",
       "      <td>12</td>\n",
       "      <td>0</td>\n",
       "      <td>0</td>\n",
       "      <td>12</td>\n",
       "    </tr>\n",
       "    <tr>\n",
       "      <th>2948</th>\n",
       "      <td>-5.00</td>\n",
       "      <td>-0.3006</td>\n",
       "      <td>0.00836</td>\n",
       "      <td>0.00282</td>\n",
       "      <td>-0.0565</td>\n",
       "      <td>0.9247</td>\n",
       "      <td>0.0775</td>\n",
       "      <td>2412</td>\n",
       "      <td>2</td>\n",
       "      <td>4</td>\n",
       "      <td>12</td>\n",
       "    </tr>\n",
       "    <tr>\n",
       "      <th>1789</th>\n",
       "      <td>15.00</td>\n",
       "      <td>1.3640</td>\n",
       "      <td>0.03629</td>\n",
       "      <td>0.03242</td>\n",
       "      <td>0.0276</td>\n",
       "      <td>0.0078</td>\n",
       "      <td>1.0000</td>\n",
       "      <td>10</td>\n",
       "      <td>0</td>\n",
       "      <td>0</td>\n",
       "      <td>10</td>\n",
       "    </tr>\n",
       "    <tr>\n",
       "      <th>2602</th>\n",
       "      <td>10.75</td>\n",
       "      <td>1.3133</td>\n",
       "      <td>0.02144</td>\n",
       "      <td>0.01625</td>\n",
       "      <td>-0.0353</td>\n",
       "      <td>0.0060</td>\n",
       "      <td>1.0000</td>\n",
       "      <td>2408</td>\n",
       "      <td>2</td>\n",
       "      <td>4</td>\n",
       "      <td>8</td>\n",
       "    </tr>\n",
       "    <tr>\n",
       "      <th>2352</th>\n",
       "      <td>12.00</td>\n",
       "      <td>1.2986</td>\n",
       "      <td>0.02752</td>\n",
       "      <td>0.02332</td>\n",
       "      <td>-0.0066</td>\n",
       "      <td>0.0069</td>\n",
       "      <td>1.0000</td>\n",
       "      <td>1408</td>\n",
       "      <td>1</td>\n",
       "      <td>4</td>\n",
       "      <td>8</td>\n",
       "    </tr>\n",
       "    <tr>\n",
       "      <th>1103</th>\n",
       "      <td>7.50</td>\n",
       "      <td>1.1954</td>\n",
       "      <td>0.01191</td>\n",
       "      <td>0.00693</td>\n",
       "      <td>-0.0720</td>\n",
       "      <td>0.3465</td>\n",
       "      <td>1.0000</td>\n",
       "      <td>4421</td>\n",
       "      <td>4</td>\n",
       "      <td>4</td>\n",
       "      <td>21</td>\n",
       "    </tr>\n",
       "    <tr>\n",
       "      <th>2204</th>\n",
       "      <td>6.00</td>\n",
       "      <td>0.6426</td>\n",
       "      <td>0.00915</td>\n",
       "      <td>0.00383</td>\n",
       "      <td>0.0078</td>\n",
       "      <td>0.2295</td>\n",
       "      <td>0.9068</td>\n",
       "      <td>18</td>\n",
       "      <td>0</td>\n",
       "      <td>0</td>\n",
       "      <td>18</td>\n",
       "    </tr>\n",
       "    <tr>\n",
       "      <th>1237</th>\n",
       "      <td>2.25</td>\n",
       "      <td>0.3615</td>\n",
       "      <td>0.01030</td>\n",
       "      <td>0.00440</td>\n",
       "      <td>-0.0145</td>\n",
       "      <td>0.4692</td>\n",
       "      <td>0.4873</td>\n",
       "      <td>4424</td>\n",
       "      <td>4</td>\n",
       "      <td>4</td>\n",
       "      <td>24</td>\n",
       "    </tr>\n",
       "  </tbody>\n",
       "</table>\n",
       "</div>"
      ],
      "text/plain": [
       "      Alpha      Cl       Cd      Cdp      Cm  Top_Xtr  Bot_Xtr  Naca  \\\n",
       "865  -15.25 -1.0965  0.03328  0.03022 -0.0993   1.0000   0.0153  4412   \n",
       "1531  17.25  1.6858  0.08262  0.07733 -0.0779   0.0142   0.9999  6412   \n",
       "1908   8.25  0.9470  0.01160  0.00579 -0.0009   0.0762   1.0000    12   \n",
       "2948  -5.00 -0.3006  0.00836  0.00282 -0.0565   0.9247   0.0775  2412   \n",
       "1789  15.00  1.3640  0.03629  0.03242  0.0276   0.0078   1.0000    10   \n",
       "2602  10.75  1.3133  0.02144  0.01625 -0.0353   0.0060   1.0000  2408   \n",
       "2352  12.00  1.2986  0.02752  0.02332 -0.0066   0.0069   1.0000  1408   \n",
       "1103   7.50  1.1954  0.01191  0.00693 -0.0720   0.3465   1.0000  4421   \n",
       "2204   6.00  0.6426  0.00915  0.00383  0.0078   0.2295   0.9068    18   \n",
       "1237   2.25  0.3615  0.01030  0.00440 -0.0145   0.4692   0.4873  4424   \n",
       "\n",
       "      Naca_1st  Naca_2nd  Naca_3rd  \n",
       "865          4         4        12  \n",
       "1531         6         4        12  \n",
       "1908         0         0        12  \n",
       "2948         2         4        12  \n",
       "1789         0         0        10  \n",
       "2602         2         4         8  \n",
       "2352         1         4         8  \n",
       "1103         4         4        21  \n",
       "2204         0         0        18  \n",
       "1237         4         4        24  "
      ]
     },
     "execution_count": 558,
     "metadata": {},
     "output_type": "execute_result"
    }
   ],
   "source": [
    "data['Naca_1st'] = data['Naca'] // 1000\n",
    "data['Naca_2nd'] = (data['Naca'] % 1000) // 100\n",
    "data['Naca_3rd'] = data['Naca'] % 100\n",
    "data.sample(n=10)"
   ]
  },
  {
   "cell_type": "markdown",
   "metadata": {
    "id": "88iIjMBRKw0m"
   },
   "source": [
    "Create RandomForest Classifier with Hyperparameter"
   ]
  },
  {
   "cell_type": "markdown",
   "metadata": {
    "id": "BhbombEgB7Ku"
   },
   "source": [
    "Training, test and validation sets split"
   ]
  },
  {
   "cell_type": "code",
   "execution_count": 559,
   "metadata": {
    "colab": {
     "base_uri": "https://localhost:8080/"
    },
    "executionInfo": {
     "elapsed": 242,
     "status": "ok",
     "timestamp": 1644338130994,
     "user": {
      "displayName": "Raphael R",
      "photoUrl": "https://lh3.googleusercontent.com/a/default-user=s64",
      "userId": "10523885934486223755"
     },
     "user_tz": -60
    },
    "id": "jNIaZukiB5xJ",
    "outputId": "de12b6b4-0cc8-4a80-d048-7a05193096b3"
   },
   "outputs": [
    {
     "name": "stdout",
     "output_type": "stream",
     "text": [
      "Unique NACAs:  [   9   21 1410 2415 4415 4418 4412 4421 4424 6409 6412    6    8   10\n",
      "   12   15   18 1408 1412 2408 2410 2411 2412 2414 2418 2421 2424] \n",
      "\n",
      "in total:  27\n",
      "\n",
      "Subset sizes:\n",
      " - training set: 16\n",
      " - test set: 10\n",
      " - validation set: 1\n",
      "\n",
      "\n",
      "\n",
      "- training set - [   8   10   12   15   18   21 1408 1410 1412 2412 2414 2421 4412 4415\n",
      " 4418 4421]\n",
      "- test set - [   6    9 2408 2410 2411 2415 2418 2424 4424 6409]\n",
      "- validation set - [6412]\n"
     ]
    }
   ],
   "source": [
    "# get the list of all NACAs in dataset\n",
    "uniqueNACAs = data.Naca.unique()\n",
    "print('Unique NACAs: ', uniqueNACAs, '\\n\\nin total: ', len(uniqueNACAs))\n",
    "\n",
    "# choose how big should be the training and test set\n",
    "trainSetShare = 0.6\n",
    "testSetShare = 0.38\n",
    "\n",
    "# calculate how many NACA profiles will be in each subset\n",
    "trainSetSize = int(trainSetShare * len(uniqueNACAs))\n",
    "testSetSize = int(testSetShare * len(uniqueNACAs))\n",
    "validSetSize = len(uniqueNACAs) - testSetSize - trainSetSize\n",
    "\n",
    "print(f'\\nSubset sizes:\\n - training set: {trainSetSize}\\n - test set: {testSetSize}\\n - validation set: {validSetSize}\\n\\n\\n')\n",
    "\n",
    "# shuffle unique NACAs list to randomize the subsets division\n",
    "np.random.seed(3)\n",
    "np.random.shuffle(uniqueNACAs)\n",
    "\n",
    "# divide the subsets\n",
    "trainNACAs = uniqueNACAs[:trainSetSize]\n",
    "testNACAs = uniqueNACAs[trainSetSize:trainSetSize+testSetSize]\n",
    "validNACAs = uniqueNACAs[trainSetSize+testSetSize:]\n",
    "\n",
    "print(f'- training set - {np.sort(trainNACAs)}')\n",
    "print(f'- test set - {np.sort(testNACAs)}')\n",
    "print(f'- validation set - {np.sort(validNACAs)}')"
   ]
  },
  {
   "cell_type": "code",
   "execution_count": 560,
   "metadata": {
    "id": "70KTBxeyCAno"
   },
   "outputs": [],
   "source": [
    "# Dividing all data into subsets\n",
    "trainSet = data.loc[data['Naca'].isin(trainNACAs)]\n",
    "testSet = data.loc[data['Naca'].isin(testNACAs)]\n",
    "validSet = data.loc[data['Naca'].isin(validNACAs)]"
   ]
  },
  {
   "cell_type": "markdown",
   "metadata": {
    "id": "Qy8zEEYZdPLr"
   },
   "source": [
    "Spli Data into Featureset and Labelset"
   ]
  },
  {
   "cell_type": "code",
   "execution_count": 561,
   "metadata": {
    "id": "MaOtDWFFi35Q"
   },
   "outputs": [],
   "source": [
    "featuresNames = ['Alpha', 'Naca_1st', 'Naca_2nd', 'Naca_3rd']\n",
    "labelNames = ['Cl', 'Cd', 'Cdp', 'Cm', 'Top_Xtr', 'Bot_Xtr']"
   ]
  },
  {
   "cell_type": "code",
   "execution_count": 562,
   "metadata": {
    "id": "SlUA5JFri54p"
   },
   "outputs": [],
   "source": [
    "labelNames = ['Cl', 'Cd']"
   ]
  },
  {
   "cell_type": "code",
   "execution_count": 563,
   "metadata": {
    "colab": {
     "base_uri": "https://localhost:8080/",
     "height": 424
    },
    "executionInfo": {
     "elapsed": 252,
     "status": "ok",
     "timestamp": 1644338177433,
     "user": {
      "displayName": "Raphael R",
      "photoUrl": "https://lh3.googleusercontent.com/a/default-user=s64",
      "userId": "10523885934486223755"
     },
     "user_tz": -60
    },
    "id": "oWy0r0pedOQd",
    "outputId": "75cd601c-2704-4c5c-cae7-168083dbfaba"
   },
   "outputs": [
    {
     "data": {
      "text/html": [
       "<div>\n",
       "<style scoped>\n",
       "    .dataframe tbody tr th:only-of-type {\n",
       "        vertical-align: middle;\n",
       "    }\n",
       "\n",
       "    .dataframe tbody tr th {\n",
       "        vertical-align: top;\n",
       "    }\n",
       "\n",
       "    .dataframe thead th {\n",
       "        text-align: right;\n",
       "    }\n",
       "</style>\n",
       "<table border=\"1\" class=\"dataframe\">\n",
       "  <thead>\n",
       "    <tr style=\"text-align: right;\">\n",
       "      <th></th>\n",
       "      <th>Alpha</th>\n",
       "      <th>Naca_1st</th>\n",
       "      <th>Naca_2nd</th>\n",
       "      <th>Naca_3rd</th>\n",
       "    </tr>\n",
       "  </thead>\n",
       "  <tbody>\n",
       "    <tr>\n",
       "      <th>0</th>\n",
       "      <td>-15.75</td>\n",
       "      <td>0</td>\n",
       "      <td>0</td>\n",
       "      <td>9</td>\n",
       "    </tr>\n",
       "    <tr>\n",
       "      <th>1</th>\n",
       "      <td>-15.50</td>\n",
       "      <td>0</td>\n",
       "      <td>0</td>\n",
       "      <td>9</td>\n",
       "    </tr>\n",
       "    <tr>\n",
       "      <th>2</th>\n",
       "      <td>-15.25</td>\n",
       "      <td>0</td>\n",
       "      <td>0</td>\n",
       "      <td>9</td>\n",
       "    </tr>\n",
       "    <tr>\n",
       "      <th>3</th>\n",
       "      <td>-15.00</td>\n",
       "      <td>0</td>\n",
       "      <td>0</td>\n",
       "      <td>9</td>\n",
       "    </tr>\n",
       "    <tr>\n",
       "      <th>4</th>\n",
       "      <td>-14.75</td>\n",
       "      <td>0</td>\n",
       "      <td>0</td>\n",
       "      <td>9</td>\n",
       "    </tr>\n",
       "    <tr>\n",
       "      <th>...</th>\n",
       "      <td>...</td>\n",
       "      <td>...</td>\n",
       "      <td>...</td>\n",
       "      <td>...</td>\n",
       "    </tr>\n",
       "    <tr>\n",
       "      <th>3647</th>\n",
       "      <td>18.25</td>\n",
       "      <td>2</td>\n",
       "      <td>4</td>\n",
       "      <td>24</td>\n",
       "    </tr>\n",
       "    <tr>\n",
       "      <th>3648</th>\n",
       "      <td>18.50</td>\n",
       "      <td>2</td>\n",
       "      <td>4</td>\n",
       "      <td>24</td>\n",
       "    </tr>\n",
       "    <tr>\n",
       "      <th>3649</th>\n",
       "      <td>18.75</td>\n",
       "      <td>2</td>\n",
       "      <td>4</td>\n",
       "      <td>24</td>\n",
       "    </tr>\n",
       "    <tr>\n",
       "      <th>3650</th>\n",
       "      <td>19.00</td>\n",
       "      <td>2</td>\n",
       "      <td>4</td>\n",
       "      <td>24</td>\n",
       "    </tr>\n",
       "    <tr>\n",
       "      <th>3651</th>\n",
       "      <td>19.25</td>\n",
       "      <td>2</td>\n",
       "      <td>4</td>\n",
       "      <td>24</td>\n",
       "    </tr>\n",
       "  </tbody>\n",
       "</table>\n",
       "<p>1296 rows × 4 columns</p>\n",
       "</div>"
      ],
      "text/plain": [
       "      Alpha  Naca_1st  Naca_2nd  Naca_3rd\n",
       "0    -15.75         0         0         9\n",
       "1    -15.50         0         0         9\n",
       "2    -15.25         0         0         9\n",
       "3    -15.00         0         0         9\n",
       "4    -14.75         0         0         9\n",
       "...     ...       ...       ...       ...\n",
       "3647  18.25         2         4        24\n",
       "3648  18.50         2         4        24\n",
       "3649  18.75         2         4        24\n",
       "3650  19.00         2         4        24\n",
       "3651  19.25         2         4        24\n",
       "\n",
       "[1296 rows x 4 columns]"
      ]
     },
     "execution_count": 563,
     "metadata": {},
     "output_type": "execute_result"
    }
   ],
   "source": [
    "\n",
    "\n",
    "# Dividing features and targets/labels\n",
    "feature_train = trainSet[featuresNames]\n",
    "label_train = trainSet[labelNames]\n",
    "\n",
    "feature_test = testSet[featuresNames]\n",
    "label_test = testSet[labelNames]\n",
    "\n",
    "feature_valid = validSet[featuresNames]\n",
    "label_valid = validSet[labelNames]\n",
    "\n",
    "feature_test"
   ]
  },
  {
   "cell_type": "markdown",
   "metadata": {
    "id": "ORy1rzvbLA1Q"
   },
   "source": [
    "Show Trained Features and Labels"
   ]
  },
  {
   "cell_type": "code",
   "execution_count": 564,
   "metadata": {
    "colab": {
     "base_uri": "https://localhost:8080/"
    },
    "executionInfo": {
     "elapsed": 276,
     "status": "ok",
     "timestamp": 1644338180414,
     "user": {
      "displayName": "Raphael R",
      "photoUrl": "https://lh3.googleusercontent.com/a/default-user=s64",
      "userId": "10523885934486223755"
     },
     "user_tz": -60
    },
    "id": "bD_wJEcXLBTH",
    "outputId": "33b1a69b-ca8a-4522-81d1-aa1c9e780b7f"
   },
   "outputs": [
    {
     "name": "stdout",
     "output_type": "stream",
     "text": [
      "Training Features Shape: (2229, 4)\n",
      "Training Labels Shape: (2229, 2)\n",
      "Testing Features Shape: (1296, 4)\n",
      "Testing Labels Shape: (1296, 2)\n",
      "Validation Features Shape: (127, 4)\n",
      "Validation Labels Shape: (127, 2)\n",
      "      Alpha  Naca_1st  Naca_2nd  Naca_3rd\n",
      "0    -15.75         0         0         9\n",
      "1    -15.50         0         0         9\n",
      "2    -15.25         0         0         9\n",
      "3    -15.00         0         0         9\n",
      "4    -14.75         0         0         9\n",
      "...     ...       ...       ...       ...\n",
      "3647  18.25         2         4        24\n",
      "3648  18.50         2         4        24\n",
      "3649  18.75         2         4        24\n",
      "3650  19.00         2         4        24\n",
      "3651  19.25         2         4        24\n",
      "\n",
      "[1296 rows x 4 columns]           Cl       Cd\n",
      "0    -0.9871  0.10108\n",
      "1    -1.0438  0.08589\n",
      "2    -1.0914  0.07218\n",
      "3    -1.1223  0.06145\n",
      "4    -1.1600  0.05005\n",
      "...      ...      ...\n",
      "3647  1.3106  0.06522\n",
      "3648  1.3098  0.06777\n",
      "3649  1.3111  0.07012\n",
      "3650  1.3073  0.07304\n",
      "3651  1.3028  0.07604\n",
      "\n",
      "[1296 rows x 2 columns]\n"
     ]
    }
   ],
   "source": [
    "print('Training Features Shape:', feature_train.shape)\n",
    "print('Training Labels Shape:', label_train.shape)\n",
    "print('Testing Features Shape:', feature_test.shape)\n",
    "print('Testing Labels Shape:', label_test.shape)\n",
    "print('Validation Features Shape:', feature_valid.shape)\n",
    "print('Validation Labels Shape:', label_valid.shape)\n",
    "print(feature_test,label_test)"
   ]
  },
  {
   "cell_type": "markdown",
   "metadata": {
    "id": "Fy0gpmPeRXSU"
   },
   "source": [
    "Instantiate RF model"
   ]
  },
  {
   "cell_type": "code",
   "execution_count": 565,
   "metadata": {
    "id": "e0ydY8jHNL1J"
   },
   "outputs": [],
   "source": [
    "# Instantiate model with 1000 decision trees\n",
    "\n",
    "# 1000 trees model\n",
    "# rf = RandomForestRegressor(n_estimators = 1000, random_state = 60)\n",
    "\n",
    "# 10 trees model\n",
    "#n_estimators=1,5,10,100\n",
    "#random_state=0,5,25,50\n",
    "#min_samples_leaf,500\n",
    "rf = RandomForestRegressor(n_estimators = 7, random_state=25)\n",
    "\n",
    "# Train the model on training data\n",
    "rf.fit(feature_train, label_train);"
   ]
  },
  {
   "cell_type": "markdown",
   "metadata": {
    "id": "jrHGdCsKRcTe"
   },
   "source": [
    "Use RandomForrest on Test data"
   ]
  },
  {
   "cell_type": "code",
   "execution_count": 566,
   "metadata": {
    "colab": {
     "base_uri": "https://localhost:8080/"
    },
    "executionInfo": {
     "elapsed": 11,
     "status": "ok",
     "timestamp": 1644338351747,
     "user": {
      "displayName": "Raphael R",
      "photoUrl": "https://lh3.googleusercontent.com/a/default-user=s64",
      "userId": "10523885934486223755"
     },
     "user_tz": -60
    },
    "id": "3gfalGrVNOHw",
    "outputId": "274e1282-adbb-4c1c-fcf1-9efab8631e05"
   },
   "outputs": [
    {
     "name": "stdout",
     "output_type": "stream",
     "text": [
      "(1296, 2)\n",
      "(1296, 2)\n",
      "Mean Absolute Error: 0.04 degrees.\n"
     ]
    },
    {
     "data": {
      "text/plain": [
       "array([[-1.31581429,  0.0538    ],\n",
       "       [-1.33452857,  0.04709429],\n",
       "       [-1.34852857,  0.04188   ],\n",
       "       ...,\n",
       "       [ 1.47081429,  0.07449286],\n",
       "       [ 1.4676    ,  0.077     ],\n",
       "       [ 1.46338571,  0.07965714]], shape=(1296, 2))"
      ]
     },
     "execution_count": 566,
     "metadata": {},
     "output_type": "execute_result"
    }
   ],
   "source": [
    "predictions = rf.predict(feature_test)\n",
    "print(predictions.shape)\n",
    "print(label_test.shape)\n",
    "# Calculate the absolute errors\n",
    "errors = abs(predictions - label_test)\n",
    "# Print out the mean absolute error (mae)\n",
    "print('Mean Absolute Error:', round(np.mean(errors), 2), 'degrees.')\n",
    "predictions"
   ]
  },
  {
   "cell_type": "markdown",
   "metadata": {
    "id": "usm0-I_2RneC"
   },
   "source": [
    "Calculate Accuracy"
   ]
  },
  {
   "cell_type": "code",
   "execution_count": 567,
   "metadata": {
    "colab": {
     "base_uri": "https://localhost:8080/"
    },
    "executionInfo": {
     "elapsed": 26,
     "status": "ok",
     "timestamp": 1644338352952,
     "user": {
      "displayName": "Raphael R",
      "photoUrl": "https://lh3.googleusercontent.com/a/default-user=s64",
      "userId": "10523885934486223755"
     },
     "user_tz": -60
    },
    "id": "O6EHrZC2NQMo",
    "outputId": "4fed626f-22a5-4830-fc72-d2c55252a033"
   },
   "outputs": [
    {
     "name": "stdout",
     "output_type": "stream",
     "text": [
      "Accuracy: -inf %.\n"
     ]
    }
   ],
   "source": [
    "# Calculate mean absolute percentage error (MAPE)\n",
    "mape = 100 * (errors / abs(label_test))\n",
    "# Calculate and display accuracy\n",
    "accuracy = 100 - np.mean(mape)\n",
    "print('Accuracy:', round(accuracy, 2), '%.')\n",
    "# print(f'Accuracy: {accuracy:.2f} %.')"
   ]
  },
  {
   "cell_type": "markdown",
   "metadata": {
    "id": "SRMqtEZLAg0Q"
   },
   "source": [
    "Calculate R2"
   ]
  },
  {
   "cell_type": "code",
   "execution_count": 568,
   "metadata": {
    "colab": {
     "base_uri": "https://localhost:8080/"
    },
    "executionInfo": {
     "elapsed": 12,
     "status": "ok",
     "timestamp": 1644338354752,
     "user": {
      "displayName": "Raphael R",
      "photoUrl": "https://lh3.googleusercontent.com/a/default-user=s64",
      "userId": "10523885934486223755"
     },
     "user_tz": -60
    },
    "id": "ENv2w0AGAlxg",
    "outputId": "4e9f0c46-f4ff-4a56-c6c3-dfe5ccb3ac2d"
   },
   "outputs": [
    {
     "name": "stdout",
     "output_type": "stream",
     "text": [
      "R-squared for predictions:\n",
      " - Cl: r2 = 0.982\n",
      " - Cd: r2 = 0.810\n"
     ]
    }
   ],
   "source": [
    "from sklearn.metrics import r2_score\n",
    "\n",
    "r2_Cl = r2_score(label_test['Cl'], predictions[:,0])\n",
    "r2_Cd = r2_score(label_test['Cd'], predictions[:,1])\n",
    "\n",
    "print(f'R-squared for predictions:\\n - Cl: r2 = {r2_Cl:.3f}\\n - Cd: r2 = {r2_Cd:.3f}')"
   ]
  },
  {
   "cell_type": "markdown",
   "metadata": {
    "id": "vca48eXLRtHG"
   },
   "source": [
    "Display RandomForrestGraph"
   ]
  },
  {
   "cell_type": "code",
   "execution_count": 569,
   "metadata": {
    "colab": {
     "base_uri": "https://localhost:8080/"
    },
    "executionInfo": {
     "elapsed": 40599,
     "status": "ok",
     "timestamp": 1644338397096,
     "user": {
      "displayName": "Raphael R",
      "photoUrl": "https://lh3.googleusercontent.com/a/default-user=s64",
      "userId": "10523885934486223755"
     },
     "user_tz": -60
    },
    "id": "0ViJhjplNUp7",
    "outputId": "a7ba4d3c-7084-4542-eb97-b8e78858b485"
   },
   "outputs": [],
   "source": [
    "# # Pull out one tree from the forest\n",
    "# #tree = rf.estimators_[5]\n",
    "# # Pull out one tree from the forest\n",
    "# tree = rf.estimators_[0]\n",
    "# ## Export the image to a dot file\n",
    "# export_graphviz(tree, out_file = 'depth2.dot', feature_names = featuresNames, rounded = True, precision = 1)\n",
    "# ## Use dot file to create a graph\n",
    "# (graph, ) = pydot.graph_from_dot_file('depth2.dot')\n",
    "\n",
    "# s = Source(graph, filename=\"depth2.dot\", format=\"png\")\n",
    "# s.render(\"depth2\") \n",
    "# s.view()\n",
    "# ## Write graph to a png file\n",
    "# graph.write_png('depth2.png')"
   ]
  },
  {
   "cell_type": "markdown",
   "metadata": {
    "id": "29NOswmXv90C"
   },
   "source": [
    "Plot Predicted Polar"
   ]
  },
  {
   "cell_type": "code",
   "execution_count": 570,
   "metadata": {
    "colab": {
     "base_uri": "https://localhost:8080/",
     "height": 1000
    },
    "executionInfo": {
     "elapsed": 497,
     "status": "ok",
     "timestamp": 1644338397567,
     "user": {
      "displayName": "Raphael R",
      "photoUrl": "https://lh3.googleusercontent.com/a/default-user=s64",
      "userId": "10523885934486223755"
     },
     "user_tz": -60
    },
    "id": "ruQvzT2MOXVf",
    "outputId": "dfe56053-be59-42ef-9414-c22420b9cfe4"
   },
   "outputs": [
    {
     "name": "stdout",
     "output_type": "stream",
     "text": [
      "1413    6\n",
      "1414    6\n",
      "1415    6\n",
      "1416    6\n",
      "1417    6\n",
      "       ..\n",
      "1535    6\n",
      "1536    6\n",
      "1537    6\n",
      "1538    6\n",
      "1539    6\n",
      "Name: Naca_1st, Length: 127, dtype: int64\n",
      "1413    4\n",
      "1414    4\n",
      "1415    4\n",
      "1416    4\n",
      "1417    4\n",
      "       ..\n",
      "1535    4\n",
      "1536    4\n",
      "1537    4\n",
      "1538    4\n",
      "1539    4\n",
      "Name: Naca_2nd, Length: 127, dtype: int64\n",
      "1413    12\n",
      "1414    12\n",
      "1415    12\n",
      "1416    12\n",
      "1417    12\n",
      "        ..\n",
      "1535    12\n",
      "1536    12\n",
      "1537    12\n",
      "1538    12\n",
      "1539    12\n",
      "Name: Naca_3rd, Length: 127, dtype: int64\n"
     ]
    },
    {
     "data": {
      "text/plain": [
       "<matplotlib.legend.Legend at 0x284ef9e9450>"
      ]
     },
     "execution_count": 570,
     "metadata": {},
     "output_type": "execute_result"
    },
    {
     "data": {
      "image/png": "[encoded data removed]",
      "text/plain": [
       "<Figure size 640x480 with 1 Axes>"
      ]
     },
     "metadata": {},
     "output_type": "display_data"
    },
    {
     "data": {
      "image/png": "[encoded data removed]",
      "text/plain": [
       "<Figure size 640x480 with 1 Axes>"
      ]
     },
     "metadata": {},
     "output_type": "display_data"
    }
   ],
   "source": [
    "# Making a prediction \n",
    "prediction_polarCurve = rf.predict(feature_valid)\n",
    "alphaRange=feature_valid['Alpha']\n",
    "np.squeeze(prediction_polarCurve) # removing of a dimension equal to 1 (from (77,1) to (77,)  )\n",
    "\n",
    "\n",
    "#print(feature_valid['Naca_1st'].squeeze,feature_valid['Naca_2nd'].squeeze,feature_valid['Naca_3rd'].squeeze)\n",
    "print(feature_valid['Naca_1st'])\n",
    "print(feature_valid['Naca_2nd'])\n",
    "print(feature_valid['Naca_3rd'])\n",
    "exactPolarCurve = label_valid['Cl']\n",
    "plt.figure()\n",
    "plt.plot(alphaRange,prediction_polarCurve[:,0])\n",
    "plt.plot(alphaRange,exactPolarCurve)\n",
    "plt.grid();\n",
    "plt.xlabel('alpha');\n",
    "plt.ylabel('Cl');\n",
    "plt.title('Cl v Alpha')\n",
    "plt.legend(['Predicted', 'Exact'])\n",
    "\n",
    "exactPolarCurve = label_valid['Cd']\n",
    "plt.figure()\n",
    "plt.plot(alphaRange,prediction_polarCurve[:,1])\n",
    "plt.plot(alphaRange,exactPolarCurve)\n",
    "plt.grid();\n",
    "plt.xlabel('alpha');\n",
    "plt.ylabel('Cd');\n",
    "plt.title('Cd v Alpha')\n",
    "plt.legend(['Predicted', 'Exact'])"
   ]
  },
  {
   "cell_type": "code",
   "execution_count": null,
   "metadata": {
    "id": "b_cCrKhBmeWS"
   },
   "outputs": [],
   "source": []
  }
 ],
 "metadata": {
  "colab": {
   "collapsed_sections": [],
   "name": "AirfoilRF.ipynb",
   "provenance": []
  },
  "kernelspec": {
   "display_name": ".venv",
   "language": "python",
   "name": "python3"
  },
  "language_info": {
   "codemirror_mode": {
    "name": "ipython",
    "version": 3
   },
   "file_extension": ".py",
   "mimetype": "text/x-python",
   "name": "python",
   "nbconvert_exporter": "python",
   "pygments_lexer": "ipython3",
   "version": "3.13.0"
  }
 },
 "nbformat": 4,
 "nbformat_minor": 0
}
